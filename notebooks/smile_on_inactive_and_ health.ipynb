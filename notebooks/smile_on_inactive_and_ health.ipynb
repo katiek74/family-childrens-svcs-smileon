{
 "cells": [
  {
   "cell_type": "code",
   "execution_count": null,
   "metadata": {},
   "outputs": [],
   "source": [
    "from shapely.geometry import Point\n",
    "import pandas as pd\n",
    "import numpy as np\n",
    "import geopandas as gpd\n",
    "import matplotlib.pyplot as plt\n",
    "import folium\n",
    "from folium.plugins import MarkerCluster\n",
    "from folium.plugins import FastMarkerCluster\n",
    "import seaborn as sns\n",
    "\n",
    "%matplotlib inline "
   ]
  },
  {
   "cell_type": "code",
   "execution_count": null,
   "metadata": {},
   "outputs": [],
   "source": [
    "#read in smileon data just in case it is needed:\n",
    "smileon_full = pd.read_csv('../data2/SmileOn11.28.2020.csv', skiprows=2, encoding='ISO-8859-1')"
   ]
  },
  {
   "cell_type": "code",
   "execution_count": null,
   "metadata": {},
   "outputs": [],
   "source": [
    "health_ranks = pd.read_excel('../data/health_factors_ranks.xlsx', skiprows=1)\n",
    "health_ranks.head()"
   ]
  },
  {
   "cell_type": "code",
   "execution_count": null,
   "metadata": {},
   "outputs": [],
   "source": [
    "top_five_health = health_ranks.sort_values('Rank').head()\n",
    "top_five_health"
   ]
  },
  {
   "cell_type": "code",
   "execution_count": null,
   "metadata": {},
   "outputs": [],
   "source": [
    "bottom_five_health = health_ranks.sort_values('Rank').tail()\n",
    "bottom_five_health"
   ]
  },
  {
   "cell_type": "code",
   "execution_count": null,
   "metadata": {},
   "outputs": [],
   "source": [
    "inactivity = pd.read_csv('../data/adult_inactivity_2019.csv')\n",
    "print(inactivity.head())\n",
    "inactivity['County Value'] = inactivity['County Value'].str.rstrip('%').astype('int') / 100.0\n",
    "inactivity.head()"
   ]
  },
  {
   "cell_type": "code",
   "execution_count": null,
   "metadata": {},
   "outputs": [],
   "source": [
    "pop = pd.read_csv('../data/tn_pop_county.csv')\n",
    "print(pop.head())\n",
    "MapLocSplit = pop[\"NAME\"].str.rsplit(\" \", n = 1, expand = True) \n",
    "pop[\"name\"]= MapLocSplit[0] \n",
    "pop[\"county\"]= MapLocSplit[1] \n",
    "pop[\"population\"] = pop[\"population\"].str.replace(\",\",\"\").astype(int)\n",
    "pop.head()"
   ]
  },
  {
   "cell_type": "code",
   "execution_count": null,
   "metadata": {},
   "outputs": [],
   "source": [
    "pop_inactive = pd.merge(left = pop, right = inactivity, \n",
    "                    left_on = 'name', right_on = 'County')\n",
    "print(pop_inactive.shape)\n",
    "pop_inactive.head(3)"
   ]
  },
  {
   "cell_type": "code",
   "execution_count": null,
   "metadata": {},
   "outputs": [],
   "source": [
    "pop_inactive = pop_inactive[['County', 'population', 'County Value']]\n",
    "pop_inactive"
   ]
  },
  {
   "cell_type": "code",
   "execution_count": null,
   "metadata": {},
   "outputs": [],
   "source": [
    "pop_inactive['total'] = (pop_inactive['population']*pop_inactive['County Value']).round(0).astype(int)\n",
    "pop_inactive.to_csv(r'C:\\Users\\kkosf\\Documents\\nss\\projects\\smile-on-spiderman\\pop_inactive.csv', index=False)\n",
    "pop_inactive"
   ]
  },
  {
   "cell_type": "code",
   "execution_count": null,
   "metadata": {},
   "outputs": [],
   "source": [
    "pop_inactive.info()"
   ]
  },
  {
   "cell_type": "code",
   "execution_count": null,
   "metadata": {},
   "outputs": [],
   "source": []
  }
 ],
 "metadata": {
  "kernelspec": {
   "display_name": "Python 3",
   "language": "python",
   "name": "python3"
  },
  "language_info": {
   "codemirror_mode": {
    "name": "ipython",
    "version": 3
   },
   "file_extension": ".py",
   "mimetype": "text/x-python",
   "name": "python",
   "nbconvert_exporter": "python",
   "pygments_lexer": "ipython3",
   "version": "3.8.5"
  }
 },
 "nbformat": 4,
 "nbformat_minor": 4
}
