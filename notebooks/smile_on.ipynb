{
 "cells": [
  {
   "cell_type": "code",
   "execution_count": null,
   "metadata": {},
   "outputs": [],
   "source": [
    "from shapely.geometry import Point\n",
    "import pandas as pd\n",
    "import geopandas as gpd\n",
    "import matplotlib.pyplot as plt\n",
    "import folium\n",
    "from folium.plugins import MarkerCluster\n",
    "from folium.plugins import FastMarkerCluster\n",
    "import seaborn as sns\n",
    "\n",
    "%matplotlib inline  "
   ]
  },
  {
   "cell_type": "markdown",
   "metadata": {},
   "source": [
    "https://interfaithdental.com/smile-on-60/advocate/\n",
    "Tennessee ranks 49th in senior dental care. 22% of older Tennesseans will lose all their natural teeth. \n",
    "\n",
    "SMILE ON 60+ is a statewide initiative with the goal of improving the overall health of low-income, mobile seniors age 60+ through access to oral healthcare services and community education.  SMILE ON 60+ will evaluate, educate, and navigate seniors into dental homes and then transport, treat, and repeat.\n",
    "\n",
    "The funding for this project was provided through a grant awarded by the Davidson County Chancery Court, Part III from the SeniorTrust/ElderTrust settlement (Case No. 11-1548-III) and through a contract administered by the Tennessee Commission on Aging and Disability.\n",
    "\n",
    "State Stats: https://nccd.cdc.gov/oralhealthdata/rdPage.aspx?rdReport=DOH_DATA.ExploreByLocation&rdProcessAction=&SaveFileGenerated=1&islLocation=47&rdICL-iclTopic=ADT&iclTopic_rdExpandedCollapsedHistory=&iclTopic=ADT&islYear=2018&hidLocation=47&hidTopic=ADT&hidYear=2018&irbShowFootnotes=Show&rdICL-iclIndicators=ADT1_1%2cADT1_3%2cADT1_4&iclIndicators_rdExpandedCollapsedHistory=&iclIndicators=ADT1_1%2cADT1_3%2cADT1_4&hidPreviouslySelectedIndicators=&DashboardColumnCount=2&rdShowElementHistory=&rdScrollX=0&rdScrollY=0&rdRnd=69609"
   ]
  },
  {
   "cell_type": "code",
   "execution_count": null,
   "metadata": {},
   "outputs": [],
   "source": [
    "#read in county geo data for map later:\n",
    "\n",
    "counties = gpd.read_file('../data/county/tncounty.shp')"
   ]
  },
  {
   "cell_type": "code",
   "execution_count": null,
   "metadata": {},
   "outputs": [],
   "source": [
    "#counties.to_csv(r'C:\\Users\\kkosf\\Documents\\nss\\projects\\smile-on-spiderman\\hardin_county.csv', index=False)\n",
    "counties.head()"
   ]
  },
  {
   "cell_type": "code",
   "execution_count": null,
   "metadata": {},
   "outputs": [],
   "source": [
    "#read in poverty data for map later and split \"County\" from county name to merge with other data later:\n",
    "\n",
    "TN_poverty = pd.read_excel('../data/PovertyEstimates.xls')\n",
    "\n",
    "MapLocSplit = TN_poverty[\"Area_name\"].str.rsplit(\" \", n = 1, expand = True) \n",
    "TN_poverty[\"name\"]= MapLocSplit[0] \n",
    "TN_poverty[\"county\"]= MapLocSplit[1] \n",
    "\n",
    "TN_poverty.tail(10)"
   ]
  },
  {
   "cell_type": "code",
   "execution_count": null,
   "metadata": {},
   "outputs": [],
   "source": [
    "#read in smile on data:\n",
    "\n",
    "smileon_full = pd.read_csv('../data2/SmileOn11.28.2020.csv', skiprows=2, encoding='ISO-8859-1')\n",
    "\n",
    "smileon_full.head()"
   ]
  },
  {
   "cell_type": "code",
   "execution_count": null,
   "metadata": {},
   "outputs": [],
   "source": [
    "#beginning EDA for smile on data:\n",
    "\n",
    "smileon_full.isnull().sum()"
   ]
  },
  {
   "cell_type": "code",
   "execution_count": null,
   "metadata": {
    "scrolled": true
   },
   "outputs": [],
   "source": [
    "smileon_full.StateProvince.value_counts()"
   ]
  },
  {
   "cell_type": "code",
   "execution_count": null,
   "metadata": {},
   "outputs": [],
   "source": [
    "smileon_full['SMILE ON 60+ Site Information - Enroller Location'].value_counts()"
   ]
  },
  {
   "cell_type": "code",
   "execution_count": null,
   "metadata": {},
   "outputs": [],
   "source": [
    "smileon_full['SMILE ON 60+ Case Management Information - Dental Clinic'].value_counts()"
   ]
  },
  {
   "cell_type": "code",
   "execution_count": null,
   "metadata": {},
   "outputs": [],
   "source": [
    "# create a new dataframe with fewer columns:\n",
    "\n",
    "smileon = smileon_full[['CallReportNum', 'ReportVersion', 'CallDateAndTimeStart', 'CallerNum', 'CountyName', 'PostalCode', \n",
    "                        'SMILE ON 60+ Screening - Last Screening Date', \n",
    "                        'SMILE ON 60+ Clinic Information - Is patient of record date if yes last seen?', \n",
    "                        'SMILE ON 60+ Clinic Information - Was initial appointment made?',\n",
    "                        'SMILE ON 60+ Demographic Information - When is the last time you visited your dentist?',\n",
    "                        'SMILE ON 60+ Case Management Information - What barriers have kept you from finding a consistent dental home? (Select all that apply)',\n",
    "                        'SMILE ON 60+ Oral Care Encounter - What care was provided to the enrollee? (Select all that apply)',\n",
    "                        'SMILE ON 60+ Screening - How often do you brush your teeth?', \n",
    "                        'SMILE ON 60+ Screening - Need for Periodontal Care',\n",
    "                        'SMILE ON 60+ Screening - Root Fragments', \n",
    "                        'SMILE ON 60+ Screening - Suspicious Soft Tissue Lesions',\n",
    "                        'SMILE ON 60+ Screening - Treatment Urgency', \n",
    "                        'SMILE ON 60+ Screening - Untreated Decay', \n",
    "                        'SMILE ON 60+ Site Information - Enroller ID',\n",
    "                        'SMILE ON 60+ Treatment Plan - Is the treatment plan completed?', \n",
    "                        'SMILE ON 60+ Treatment Plan - Was a treatment plan developed?',\n",
    "                        'SMILE ON 60+ Treatment Plan - Was the enrollee able to be restored to function (can chew) and \"social six\" esthetics (top front six teeth are present and disease free)'\n",
    "                       ]]\n",
    "\n",
    "#and rename the columns to make things easier:\n",
    "\n",
    "smileon = smileon.rename(columns = {'SMILE ON 60+ Screening - Last Screening Date': 'Last_Screen_Date', \n",
    "                                    'SMILE ON 60+ Clinic Information - Is patient of record date if yes last seen?' :'Date_Last_Seen', \n",
    "                                    'SMILE ON 60+ Clinic Information - Was initial appointment made?' :'Initial_Appt_Made',\n",
    "                                    'SMILE ON 60+ Demographic Information - When is the last time you visited your dentist?': 'Last_Dentist_Visit',\n",
    "                                    'SMILE ON 60+ Case Management Information - What barriers have kept you from finding a consistent dental home? (Select all that apply)' : 'Barriers',\n",
    "                                    'SMILE ON 60+ Oral Care Encounter - What care was provided to the enrollee? (Select all that apply)' : 'Care_Provided',\n",
    "                                    'SMILE ON 60+ Screening - How often do you brush your teeth?' : 'Brush_Frequency', \n",
    "                                    'SMILE ON 60+ Screening - Need for Periodontal Care' : 'Need_For_Care',\n",
    "                                    'SMILE ON 60+ Screening - Root Fragments' : 'Root_Fragments', \n",
    "                                    'SMILE ON 60+ Screening - Suspicious Soft Tissue Lesions' : 'Lesions',\n",
    "                                    'SMILE ON 60+ Screening - Treatment Urgency' : 'Urgency', \n",
    "                                    'SMILE ON 60+ Screening - Untreated Decay' : 'Decay', \n",
    "                                    'SMILE ON 60+ Site Information - Enroller ID' : 'Clinic_Attended',\n",
    "                                    'SMILE ON 60+ Treatment Plan - Is the treatment plan completed?' : 'Tx_Plan_Complete', \n",
    "                                    'SMILE ON 60+ Treatment Plan - Was a treatment plan developed?' : 'Tx_Plan_Developed',\n",
    "                                    'SMILE ON 60+ Treatment Plan - Was the enrollee able to be restored to function (can chew) and \"social six\" esthetics (top front six teeth are present and disease free)' :\n",
    "                                    'Function_Restored'\n",
    "                                                \n",
    "                                   })\n",
    "\n",
    "smileon.head()"
   ]
  },
  {
   "cell_type": "code",
   "execution_count": null,
   "metadata": {},
   "outputs": [],
   "source": [
    "smileon.isnull().sum()"
   ]
  },
  {
   "cell_type": "code",
   "execution_count": null,
   "metadata": {},
   "outputs": [],
   "source": [
    "smileon.CallerNum.nunique()"
   ]
  },
  {
   "cell_type": "code",
   "execution_count": null,
   "metadata": {},
   "outputs": [],
   "source": [
    "smileon.Last_Dentist_Visit.value_counts()"
   ]
  },
  {
   "cell_type": "code",
   "execution_count": null,
   "metadata": {},
   "outputs": [],
   "source": [
    "smileon.CallerNum.value_counts()"
   ]
  },
  {
   "cell_type": "code",
   "execution_count": null,
   "metadata": {},
   "outputs": [],
   "source": [
    "#remove -1 & -2 from CallerNum as suggested:\n",
    "\n",
    "smileon = smileon.loc[~smileon['CallerNum'].isin(['-1', '-2'])]\n",
    "smileon.CallerNum.value_counts()"
   ]
  },
  {
   "cell_type": "code",
   "execution_count": null,
   "metadata": {},
   "outputs": [],
   "source": [
    "# change CallDateAndTimeStart to datetime and separate date and time:\n",
    "\n",
    "smileon['CallDateAndTimeStart'] = pd.to_datetime(smileon['CallDateAndTimeStart'])\n",
    "smileon['date'] = smileon['CallDateAndTimeStart'].dt.date\n",
    "smileon['time'] = smileon['CallDateAndTimeStart'].dt.time\n",
    "\n",
    "smileon.head(3)"
   ]
  },
  {
   "cell_type": "code",
   "execution_count": null,
   "metadata": {},
   "outputs": [],
   "source": [
    "#Further EDA:\n",
    "\n",
    "smileon.ReportVersion.value_counts()\n",
    "\n",
    "#over twice as many clinical than registration (difference of 14,832)"
   ]
  },
  {
   "cell_type": "code",
   "execution_count": null,
   "metadata": {},
   "outputs": [],
   "source": [
    "smileon.Brush_Frequency.value_counts()"
   ]
  },
  {
   "cell_type": "code",
   "execution_count": null,
   "metadata": {},
   "outputs": [],
   "source": [
    "smileon.CountyName.value_counts()"
   ]
  },
  {
   "cell_type": "code",
   "execution_count": null,
   "metadata": {},
   "outputs": [],
   "source": [
    "smileon.PostalCode.value_counts()"
   ]
  },
  {
   "cell_type": "code",
   "execution_count": null,
   "metadata": {},
   "outputs": [],
   "source": [
    "# Checking the number of clinics and how many times they were used:\n",
    "\n",
    "print(smileon['Clinic_Attended'].nunique())\n",
    "\n",
    "smileon['Clinic_Attended'].value_counts()"
   ]
  },
  {
   "cell_type": "code",
   "execution_count": null,
   "metadata": {},
   "outputs": [],
   "source": [
    "smileon.Decay.value_counts()"
   ]
  },
  {
   "cell_type": "code",
   "execution_count": null,
   "metadata": {},
   "outputs": [],
   "source": [
    "smileon.Root_Fragments.value_counts()"
   ]
  },
  {
   "cell_type": "code",
   "execution_count": null,
   "metadata": {},
   "outputs": [],
   "source": [
    "smileon.Lesions.value_counts()"
   ]
  },
  {
   "cell_type": "code",
   "execution_count": null,
   "metadata": {},
   "outputs": [],
   "source": [
    "smileon.Tx_Plan_Complete.value_counts()"
   ]
  },
  {
   "cell_type": "code",
   "execution_count": null,
   "metadata": {},
   "outputs": [],
   "source": [
    "smileon.Tx_Plan_Developed.value_counts()"
   ]
  },
  {
   "cell_type": "code",
   "execution_count": null,
   "metadata": {},
   "outputs": [],
   "source": [
    "smileon.Function_Restored.value_counts()"
   ]
  },
  {
   "cell_type": "code",
   "execution_count": null,
   "metadata": {},
   "outputs": [],
   "source": [
    "smileon.date.value_counts()"
   ]
  },
  {
   "cell_type": "code",
   "execution_count": null,
   "metadata": {},
   "outputs": [],
   "source": [
    "smileon.CallerNum.value_counts().head(20)"
   ]
  },
  {
   "cell_type": "code",
   "execution_count": null,
   "metadata": {},
   "outputs": [],
   "source": [
    "#Group CallerNums to look at those with many entries:\n",
    "\n",
    "CallerNums = smileon.groupby('CallerNum')"
   ]
  },
  {
   "cell_type": "code",
   "execution_count": null,
   "metadata": {},
   "outputs": [],
   "source": [
    "CallerNums.get_group(2441776)"
   ]
  },
  {
   "cell_type": "code",
   "execution_count": null,
   "metadata": {},
   "outputs": [],
   "source": [
    "CallerNums.get_group(2416076)"
   ]
  },
  {
   "cell_type": "code",
   "execution_count": null,
   "metadata": {},
   "outputs": [],
   "source": [
    "# remove duplicates from data to look at individuals:\n",
    "\n",
    "no_dups = smileon.drop_duplicates(subset='CallerNum', keep=\"first\")\n",
    "no_dups.info()"
   ]
  },
  {
   "cell_type": "code",
   "execution_count": null,
   "metadata": {},
   "outputs": [],
   "source": [
    "# Create a dataset with just county name and total number of users. Also had to make lowercase to merge with other data later:\n",
    "\n",
    "no_dups['CountyName_lower'] = no_dups['CountyName'].str.lower()\n",
    "county_counts = no_dups.CountyName_lower.value_counts()\n",
    "\n",
    "county_counts = county_counts.to_frame().reset_index()\n",
    "\n",
    "county_counts = county_counts.rename(columns = {'index': 'CountyName', 'CountyName_lower': 'total'})\n",
    "county_counts.sort_values(by='CountyName',inplace=True)\n",
    "#county_counts.to_csv(r'C:\\Users\\kkosf\\Documents\\nss\\projects\\smile-on-spiderman\\county_counts.csv', index=False)\n",
    "print(county_counts.shape)"
   ]
  },
  {
   "cell_type": "code",
   "execution_count": null,
   "metadata": {},
   "outputs": [],
   "source": [
    "# Merge county geo data with poverty data in order to create poverty map by county:\n",
    "\n",
    "pov_map = pd.merge(left = counties, right = TN_poverty, \n",
    "                    left_on = 'NAME', right_on = 'name')\n",
    "print(pov_map.shape)\n",
    "pov_map.head(3)"
   ]
  },
  {
   "cell_type": "code",
   "execution_count": null,
   "metadata": {},
   "outputs": [],
   "source": [
    "#Create map of poverty percent by county:\n",
    "\n",
    "fig, ax = plt.subplots(figsize=(20,6))\n",
    "pov_map.plot(column = 'PCTPOVALL_2018', \n",
    "              cmap = 'GnBu', \n",
    "              edgecolor = 'black', \n",
    "              legend = True,\n",
    "              ax = ax)\n",
    "\n",
    "for index, row in pov_map.iterrows():\n",
    "    plt.annotate(text=row['PCTPOVALL_2018'], \n",
    "                 xy=(row['geometry'].centroid.x, row['geometry'].centroid.y),\n",
    "                 horizontalalignment='center', fontweight = 'bold', color = 'tomato')\n",
    "\n",
    "plt.title('Percent of Poverty by County, 2018', fontsize = 14)\n",
    "ax.axis('off');"
   ]
  },
  {
   "cell_type": "code",
   "execution_count": null,
   "metadata": {},
   "outputs": [],
   "source": [
    "#Merge smile on county totals with county geo data to create users by county:\n",
    "\n",
    "county_counts = pd.read_csv('../data/county_counts.csv')\n",
    "\n",
    "counties['NAME_lower'] = counties['NAME'].str.lower()\n",
    "\n",
    "smileon_map = pd.merge(left = counties, right = county_counts, \n",
    "                    left_on = 'NAME_lower', right_on = 'CountyName')\n",
    "print(smileon_map.shape)\n",
    "smileon_map.head(3)"
   ]
  },
  {
   "cell_type": "code",
   "execution_count": null,
   "metadata": {},
   "outputs": [],
   "source": [
    "pts_by_county = smileon_map[['NAME', 'geometry', 'total']]\n",
    "pts_by_county = pts_by_county.rename(columns ={'NAME' : 'County', 'total' : 'patients'})\n",
    "pts_by_county.sort_values('County', ignore_index=True, inplace=True)\n",
    "print(pts_by_county.head())\n",
    "#pts_by_county.to_csv(r'C:\\Users\\kkosf\\Documents\\nss\\projects\\smile-on-spiderman\\pts_by_county.csv', index=False)"
   ]
  },
  {
   "cell_type": "code",
   "execution_count": null,
   "metadata": {},
   "outputs": [],
   "source": [
    "#Create map of smile on users by county:\n",
    "\n",
    "fig, ax = plt.subplots(figsize=(20,6))\n",
    "smileon_map.plot(column = 'total', \n",
    "              cmap = 'GnBu', \n",
    "              edgecolor = 'black', \n",
    "              legend = True,\n",
    "              ax = ax)\n",
    "\n",
    "for index, row in smileon_map.iterrows():\n",
    "    plt.annotate(text=row['total'], \n",
    "                 xy=(row['geometry'].centroid.x, row['geometry'].centroid.y),\n",
    "                 horizontalalignment='center', fontweight = 'bold', color = 'tomato')\n",
    "    \n",
    "plt.title('Number of Smile On 60+ Users per County', fontsize = 14)\n",
    "ax.axis('off');\n",
    "\n",
    "# NOTE: no users from Hardin county"
   ]
  },
  {
   "cell_type": "code",
   "execution_count": null,
   "metadata": {},
   "outputs": [],
   "source": [
    "#number of users by county table with no geography:\n",
    "\n",
    "pts_by_county_simple = pts_by_county[['County', 'patients']]\n",
    "#pts_by_county_simple.to_csv(r'C:\\Users\\kkosf\\Documents\\nss\\projects\\smile-on-spiderman\\pts_by_county_simple.csv', index=False)\n",
    "pts_by_county_simple"
   ]
  },
  {
   "cell_type": "code",
   "execution_count": null,
   "metadata": {},
   "outputs": [],
   "source": [
    "# Create a dataframe with less info and remove day from date to get year-month only to make some plots over time:\n",
    "\n",
    "use_over_time = no_dups[['ReportVersion', 'CallReportNum', 'date']].copy() \n",
    "use_over_time.date = use_over_time.date.apply(pd.to_datetime)\n",
    "use_over_time.date = use_over_time.date.dt.strftime('%Y-%m')\n",
    "print(use_over_time.shape)\n",
    "use_over_time.sort_values(by='date',inplace=True)\n",
    "use_over_time.head()"
   ]
  },
  {
   "cell_type": "code",
   "execution_count": null,
   "metadata": {},
   "outputs": [],
   "source": [
    "#plot of users over time, still needs work...\n",
    "\n",
    "plt.plot('date', 'CallReportNum', data = use_over_time)\n",
    "plt.xticks(rotation = 70)\n",
    "plt.title('Use Over Time');"
   ]
  },
  {
   "cell_type": "code",
   "execution_count": null,
   "metadata": {},
   "outputs": [],
   "source": [
    "#separate out registration vs clinical:\n",
    "\n",
    "reg_only = smileon[smileon['ReportVersion'] == 'SMILE ON 60+ Registration'] \n",
    "print(reg_only.shape)\n",
    "\n",
    "clinic_only =  smileon[smileon['ReportVersion'] == 'SMILE ON 60+ Clinical'] \n",
    "print(clinic_only.shape)\n",
    "clinic_only.head()"
   ]
  },
  {
   "cell_type": "code",
   "execution_count": null,
   "metadata": {},
   "outputs": [],
   "source": [
    "clinic_only.info() "
   ]
  },
  {
   "cell_type": "code",
   "execution_count": null,
   "metadata": {},
   "outputs": [],
   "source": [
    "#make smaller dataframe to use for a plot:\n",
    "\n",
    "clinic_over_time = clinic_only[['ReportVersion', 'CallReportNum', 'date']].copy() \n",
    "clinic_over_time.date = clinic_over_time.date.apply(pd.to_datetime)\n",
    "clinic_over_time.date = clinic_over_time.date.dt.strftime('%Y-%m')\n",
    "print(clinic_over_time.shape)\n",
    "clinic_over_time.sort_values(by='date',inplace=True)\n",
    "clinic_over_time.head()"
   ]
  },
  {
   "cell_type": "code",
   "execution_count": null,
   "metadata": {},
   "outputs": [],
   "source": [
    "#create plot with only clinic data\n",
    "\n",
    "plt.plot('date', 'CallReportNum', data = clinic_over_time)\n",
    "plt.xticks(rotation = 70)\n",
    "plt.title('Use Over Time - Clinic');"
   ]
  },
  {
   "cell_type": "code",
   "execution_count": null,
   "metadata": {},
   "outputs": [],
   "source": [
    "no_dups.Last_Dentist_Visit.value_counts(normalize=True)\n",
    "\n",
    "#clinic_only\n",
    "#Less than 12 months    0.481960\n",
    "#More than 5 years      0.201395\n",
    "#1 to 2 years           0.188389\n",
    "#3 to 5 years           0.128256"
   ]
  },
  {
   "cell_type": "code",
   "execution_count": null,
   "metadata": {},
   "outputs": [],
   "source": [
    "Last_visit = no_dups.Last_Dentist_Visit.value_counts().to_frame('counts').reset_index()\n",
    "Last_visit.rename(columns = {'index' : 'Last_Visit'})\n",
    "#Last_visit.to_csv(r'C:\\Users\\kkosf\\Documents\\nss\\projects\\smile-on-spiderman\\Last_visit.csv', index=False)\n",
    "Last_visit"
   ]
  },
  {
   "cell_type": "code",
   "execution_count": null,
   "metadata": {},
   "outputs": [],
   "source": [
    "sns.set_palette(\"ch:s=.25,rot=-.25\")\n",
    "plt.figure(figsize=(12,6))\n",
    "sns.countplot(x=\"Last_Dentist_Visit\", data = no_dups, \n",
    "              order=['Less than 12 months', '1 to 2 years', '3 to 5 years', 'More than 5 years'])\n",
    "plt.xlabel(\"\")\n",
    "plt.ylabel(\"\")\n",
    "plt.title(\"Last Dentist Visit\");"
   ]
  },
  {
   "cell_type": "code",
   "execution_count": null,
   "metadata": {},
   "outputs": [],
   "source": [
    "#create a dataframe for people who haven't been to the dentist in more than 5 years:\n",
    "\n",
    "five_plus = smileon[smileon['Last_Dentist_Visit'] == 'More than 5 years'] \n",
    "print(five_plus.shape)\n",
    "five_plus.ReportVersion.value_counts()"
   ]
  },
  {
   "cell_type": "code",
   "execution_count": null,
   "metadata": {},
   "outputs": [],
   "source": [
    "five_plus.info()"
   ]
  },
  {
   "cell_type": "code",
   "execution_count": null,
   "metadata": {},
   "outputs": [],
   "source": [
    "five_plus.Brush_Frequency.value_counts()"
   ]
  },
  {
   "cell_type": "code",
   "execution_count": null,
   "metadata": {},
   "outputs": [],
   "source": [
    "five_plus_clinic = clinic_only[clinic_only['Last_Dentist_Visit'] == 'More than 5 years'] \n",
    "five_plus_clinic.shape"
   ]
  },
  {
   "cell_type": "code",
   "execution_count": null,
   "metadata": {},
   "outputs": [],
   "source": [
    "five_plus_clinic.CallerNum.value_counts().head(20)"
   ]
  },
  {
   "cell_type": "code",
   "execution_count": null,
   "metadata": {},
   "outputs": [],
   "source": [
    "five_plus_clinic.CallerNum.nunique()"
   ]
  },
  {
   "cell_type": "code",
   "execution_count": null,
   "metadata": {},
   "outputs": [],
   "source": [
    "five_plus_clinic.info()"
   ]
  },
  {
   "cell_type": "code",
   "execution_count": null,
   "metadata": {},
   "outputs": [],
   "source": [
    "five_plus_grouped_fx = five_plus_clinic.groupby(['CallerNum']).agg({'Function_Restored': \"count\"}).reset_index()\n",
    "five_plus_grouped_fx"
   ]
  },
  {
   "cell_type": "code",
   "execution_count": null,
   "metadata": {},
   "outputs": [],
   "source": [
    "five_plus_grouped_fx.Function_Restored.value_counts()\n",
    "\n",
    "#219 of 1102 of those that haven't been to the dentist in 5 years do not have function restored - 20%\n"
   ]
  },
  {
   "cell_type": "code",
   "execution_count": null,
   "metadata": {},
   "outputs": [],
   "source": [
    "219/1102"
   ]
  },
  {
   "cell_type": "code",
   "execution_count": null,
   "metadata": {},
   "outputs": [],
   "source": [
    "five_plus_grouped_txcomp = five_plus_clinic.groupby(['CallerNum']).agg({'Tx_Plan_Complete': \"count\"}).reset_index()\n",
    "five_plus_grouped_txcomp"
   ]
  },
  {
   "cell_type": "code",
   "execution_count": null,
   "metadata": {},
   "outputs": [],
   "source": [
    "five_plus_grouped_txcomp.Tx_Plan_Complete.value_counts()\n",
    "\n",
    "#144 of 1102 of those that haven't been to the dentist in 5 years do not have their treatment plan complete - 13%\n"
   ]
  },
  {
   "cell_type": "code",
   "execution_count": null,
   "metadata": {},
   "outputs": [],
   "source": [
    "144/1102"
   ]
  },
  {
   "cell_type": "code",
   "execution_count": null,
   "metadata": {},
   "outputs": [],
   "source": [
    "five_plus_clinic.Barriers.value_counts().head(10)"
   ]
  },
  {
   "cell_type": "code",
   "execution_count": null,
   "metadata": {},
   "outputs": [],
   "source": [
    "#look at the top barriers to dental visits for all users:\n",
    "\n",
    "top_barriers = no_dups.Barriers.value_counts().head(10).to_frame().reset_index()\n",
    "top_barriers = top_barriers.rename(columns = {'index': 'Barriers', 'Barriers': 'count'})\n",
    "top_barriers"
   ]
  },
  {
   "cell_type": "code",
   "execution_count": null,
   "metadata": {},
   "outputs": [],
   "source": [
    "ax=top_barriers.sort_values(by='count').plot.barh(x='Barriers', figsize=(10, 5))\n",
    "ax.get_legend().remove()\n",
    "plt.ylabel(\"\")\n",
    "plt.title('Top 10 Barriers');"
   ]
  },
  {
   "cell_type": "code",
   "execution_count": null,
   "metadata": {},
   "outputs": [],
   "source": [
    "care_provided = clinic_only[['CallReportNum', 'CallerNum', 'CountyName', 'Care_Provided',\n",
    "                        'Clinic_Attended', 'Tx_Plan_Complete', 'Tx_Plan_Developed', 'Function_Restored', 'date'\n",
    "                       ]]\n",
    "\n",
    "care_provided.head()"
   ]
  },
  {
   "cell_type": "code",
   "execution_count": null,
   "metadata": {},
   "outputs": [],
   "source": [
    "care_provided.Function_Restored.value_counts(normalize=True)"
   ]
  },
  {
   "cell_type": "code",
   "execution_count": null,
   "metadata": {},
   "outputs": [],
   "source": [
    "care_provided.Tx_Plan_Complete.value_counts(normalize=True)"
   ]
  },
  {
   "cell_type": "code",
   "execution_count": null,
   "metadata": {},
   "outputs": [],
   "source": [
    "care_provided.Tx_Plan_Developed.value_counts(normalize=True)"
   ]
  },
  {
   "cell_type": "code",
   "execution_count": null,
   "metadata": {},
   "outputs": [],
   "source": [
    "care_provided.CallerNum.value_counts().tail(10)"
   ]
  },
  {
   "cell_type": "code",
   "execution_count": null,
   "metadata": {},
   "outputs": [],
   "source": [
    "CareInfo = care_provided.groupby('CallerNum')\n",
    "CareInfo.get_group(3558797)"
   ]
  },
  {
   "cell_type": "code",
   "execution_count": null,
   "metadata": {},
   "outputs": [],
   "source": [
    "# Working on subsetting people that only had one visit - look for those with tx plan not completed plus barriers?\n",
    "\n",
    "one_visit = smileon.CallerNum.value_counts().loc[lambda x : x==1]\n",
    "one_visit"
   ]
  },
  {
   "cell_type": "code",
   "execution_count": null,
   "metadata": {},
   "outputs": [],
   "source": []
  },
  {
   "cell_type": "code",
   "execution_count": null,
   "metadata": {},
   "outputs": [],
   "source": []
  }
 ],
 "metadata": {
  "kernelspec": {
   "display_name": "Python 3",
   "language": "python",
   "name": "python3"
  },
  "language_info": {
   "codemirror_mode": {
    "name": "ipython",
    "version": 3
   },
   "file_extension": ".py",
   "mimetype": "text/x-python",
   "name": "python",
   "nbconvert_exporter": "python",
   "pygments_lexer": "ipython3",
   "version": "3.8.5"
  }
 },
 "nbformat": 4,
 "nbformat_minor": 4
}
