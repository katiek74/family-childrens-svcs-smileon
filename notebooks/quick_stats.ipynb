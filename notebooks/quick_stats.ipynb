{
 "cells": [
  {
   "cell_type": "code",
   "execution_count": null,
   "metadata": {},
   "outputs": [],
   "source": [
    "import pandas as pd\n",
    "import numpy as np\n",
    "import matplotlib.pyplot as plt\n",
    "import seaborn as sns\n",
    "\n",
    "%matplotlib inline "
   ]
  },
  {
   "cell_type": "code",
   "execution_count": null,
   "metadata": {},
   "outputs": [],
   "source": [
    "smileon_full = pd.read_csv('../data2/SmileOn11.28.2020.csv', skiprows=2, encoding='ISO-8859-1')"
   ]
  },
  {
   "cell_type": "code",
   "execution_count": null,
   "metadata": {
    "scrolled": false
   },
   "outputs": [],
   "source": [
    "# create a new dataframe with fewer columns:\n",
    "\n",
    "smileon_full['CallDateAndTimeStart'] = pd.to_datetime(smileon_full['CallDateAndTimeStart'])\n",
    "smileon_full['date'] = smileon_full['CallDateAndTimeStart'].dt.date\n",
    "smileon_full['time'] = smileon_full['CallDateAndTimeStart'].dt.time\n",
    "\n",
    "smileon = smileon_full[['CallReportNum', 'ReportVersion', 'date', 'CallerNum', 'CountyName', 'PostalCode', \n",
    "                        'SMILE ON 60+ Demographic Information - When is the last time you visited your dentist?',\n",
    "                        'SMILE ON 60+ Case Management Information - What barriers have kept you from finding a consistent dental home? (Select all that apply)',\n",
    "                        'SMILE ON 60+ Base-line Oral and Conditions Questions - Are you limited in what you can eat?',\n",
    "                        'SMILE ON 60+ Base-line Oral and Conditions Questions - Have you ever felt that the appearance of your mouth and teeth affected your quality of life?',\n",
    "                        'SMILE ON 60+ Base-line Oral and Conditions Questions - How would you describe the condition of your mouth and teeth?',\n",
    "                        'SMILE ON 60+ Screening - How often do you brush your teeth?', \n",
    "                        'SMILE ON 60+ Screening - Need for Periodontal Care',\n",
    "                        'SMILE ON 60+ Screening - Root Fragments', \n",
    "                        'SMILE ON 60+ Screening - Suspicious Soft Tissue Lesions',\n",
    "                        'SMILE ON 60+ Screening - Untreated Decay', \n",
    "                        'SMILE ON 60+ Treatment Plan - Was a treatment plan developed?',\n",
    "                        'SMILE ON 60+ Treatment Plan - Is the treatment plan completed?', \n",
    "                        'SMILE ON 60+ Treatment Plan - Was the enrollee able to be restored to function (can chew) and \"social six\" esthetics (top front six teeth are present and disease free)'\n",
    "                       ]]\n",
    "\n",
    "#and rename the columns to make things easier:\n",
    "\n",
    "smileon = smileon.rename(columns = {'SMILE ON 60+ Demographic Information - When is the last time you visited your dentist?': 'Last_Dentist_Visit',\n",
    "                                    'SMILE ON 60+ Case Management Information - What barriers have kept you from finding a consistent dental home? (Select all that apply)' : 'Barriers',\n",
    "                                    'SMILE ON 60+ Base-line Oral and Conditions Questions - Are you limited in what you can eat?' : 'Eating_Limitations',\n",
    "                                    'SMILE ON 60+ Base-line Oral and Conditions Questions - Have you ever felt that the appearance of your mouth and teeth affected your quality of life?' : 'Appearance_QOL',\n",
    "                                    'SMILE ON 60+ Base-line Oral and Conditions Questions - How would you describe the condition of your mouth and teeth?' : 'Condition',\n",
    "                                    'SMILE ON 60+ Screening - How often do you brush your teeth?' : 'Brush_Frequency', \n",
    "                                    'SMILE ON 60+ Screening - Need for Periodontal Care' : 'Need_For_Care',\n",
    "                                    'SMILE ON 60+ Screening - Root Fragments' : 'Root_Fragments', \n",
    "                                    'SMILE ON 60+ Screening - Suspicious Soft Tissue Lesions' : 'Lesions',\n",
    "                                    'SMILE ON 60+ Screening - Untreated Decay' : 'Decay', \n",
    "                                    'SMILE ON 60+ Treatment Plan - Was a treatment plan developed?' : 'Tx_Plan_Developed',\n",
    "                                    'SMILE ON 60+ Treatment Plan - Is the treatment plan completed?' : 'Tx_Plan_Complete', \n",
    "                                    'SMILE ON 60+ Treatment Plan - Was the enrollee able to be restored to function (can chew) and \"social six\" esthetics (top front six teeth are present and disease free)' :\n",
    "                                    'Function_Restored'\n",
    "                                   })\n",
    "\n",
    "smileon = smileon.loc[~smileon['CallerNum'].isin(['-1', '-2'])]\n",
    "\n",
    "smileon.head()"
   ]
  },
  {
   "cell_type": "code",
   "execution_count": null,
   "metadata": {},
   "outputs": [],
   "source": [
    "smileon.isnull().sum()"
   ]
  },
  {
   "cell_type": "code",
   "execution_count": null,
   "metadata": {},
   "outputs": [],
   "source": [
    "smileon.CallerNum.nunique()"
   ]
  },
  {
   "cell_type": "code",
   "execution_count": null,
   "metadata": {},
   "outputs": [],
   "source": [
    "Plan_developed_all = smileon[smileon['Tx_Plan_Developed'] == 'Yes'] \n",
    "Plan_developed_all.CallerNum.nunique()"
   ]
  },
  {
   "cell_type": "code",
   "execution_count": null,
   "metadata": {},
   "outputs": [],
   "source": [
    "QOL = smileon[['CallerNum', 'Appearance_QOL']]\n",
    "#QOL.to_csv(r'C:\\Users\\kkosf\\Documents\\nss\\projects\\smile-on-spiderman\\QOL.csv', index=False)\n",
    "QOL"
   ]
  },
  {
   "cell_type": "code",
   "execution_count": null,
   "metadata": {},
   "outputs": [],
   "source": [
    "Lim_Eat = smileon[['CallerNum', 'Eating_Limitations']]\n",
    "Lim_Eat.to_csv(r'C:\\Users\\kkosf\\Documents\\nss\\projects\\smile-on-spiderman\\Lim_Eat.csv', index=False)\n",
    "Lim_Eat"
   ]
  },
  {
   "cell_type": "code",
   "execution_count": null,
   "metadata": {},
   "outputs": [],
   "source": [
    "smileon.ReportVersion.value_counts()"
   ]
  },
  {
   "cell_type": "code",
   "execution_count": null,
   "metadata": {},
   "outputs": [],
   "source": [
    "#separate out registration vs clinical:\n",
    "\n",
    "reg_only = smileon[smileon['ReportVersion'] == 'SMILE ON 60+ Registration'] \n",
    "print(reg_only.shape)\n",
    "\n",
    "clinic_only =  smileon[smileon['ReportVersion'] == 'SMILE ON 60+ Clinical'] \n",
    "print(clinic_only.shape)"
   ]
  },
  {
   "cell_type": "code",
   "execution_count": null,
   "metadata": {},
   "outputs": [],
   "source": [
    "clinic_only.info() "
   ]
  },
  {
   "cell_type": "code",
   "execution_count": null,
   "metadata": {},
   "outputs": [],
   "source": [
    "clinic_only.CallerNum.nunique()"
   ]
  },
  {
   "cell_type": "code",
   "execution_count": null,
   "metadata": {},
   "outputs": [],
   "source": [
    "reg_only.info() "
   ]
  },
  {
   "cell_type": "code",
   "execution_count": null,
   "metadata": {},
   "outputs": [],
   "source": [
    "#using the whole dataset, the number of patients with funtion restored: 3356\n",
    "\n",
    "Function_restored = smileon[smileon['Function_Restored'] == 'Yes'] \n",
    "print(Function_restored.CallerNum.nunique())\n",
    "\n",
    "3356/8706 #39% of all patients have function restored"
   ]
  },
  {
   "cell_type": "code",
   "execution_count": null,
   "metadata": {},
   "outputs": [],
   "source": [
    "#using the clinic only data, the number of patients with a treatment plan developed: 4814\n",
    "\n",
    "Plan_developed = clinic_only[clinic_only['Tx_Plan_Developed'] == 'Yes'] \n",
    "Plan_developed.CallerNum.nunique()"
   ]
  },
  {
   "cell_type": "code",
   "execution_count": null,
   "metadata": {},
   "outputs": [],
   "source": [
    "#Those with a treatment plan developed that were restored to function: 3116\n",
    "\n",
    "Plan_developed_fx = Plan_developed[Plan_developed['Function_Restored'] == 'Yes'] \n",
    "print(Plan_developed_fx.CallerNum.nunique())\n",
    "3116/4814 #65% of those with a treatment plan had function restored"
   ]
  },
  {
   "cell_type": "code",
   "execution_count": null,
   "metadata": {},
   "outputs": [],
   "source": [
    "#subset those that reported eating limitations that had a treatment plan developed: 2220\n",
    "\n",
    "Eating_Limitations = Plan_developed[Plan_developed['Eating_Limitations'] == 'Yes'] \n",
    "Eating_Limitations.CallerNum.nunique()"
   ]
  },
  {
   "cell_type": "code",
   "execution_count": null,
   "metadata": {},
   "outputs": [],
   "source": [
    "#Those with a treatment plan developed and reported eating limitations that were restored to function: 1298\n",
    "\n",
    "Eating_Limitations_fx = Eating_Limitations[Eating_Limitations['Function_Restored'] == 'Yes'] \n",
    "print(Eating_Limitations_fx.CallerNum.nunique())\n",
    "\n",
    "1298/2220 #58% of people that reported eating limitations have had function restored"
   ]
  },
  {
   "cell_type": "code",
   "execution_count": null,
   "metadata": {},
   "outputs": [],
   "source": [
    "#subset those that reported appearance and quality of life issues that had a treatment plan developed: 2661\n",
    "\n",
    "Appearance_QOL = Plan_developed[Plan_developed['Appearance_QOL'] == 'Yes'] \n",
    "Appearance_QOL.CallerNum.nunique()"
   ]
  },
  {
   "cell_type": "code",
   "execution_count": null,
   "metadata": {},
   "outputs": [],
   "source": [
    "#Those with a treatment plan developed and reported appearance and quality of life issues that were restored to function: 1614\n",
    "\n",
    "Appearance_QOL_fx = Appearance_QOL[Appearance_QOL['Function_Restored'] == 'Yes'] \n",
    "print(Appearance_QOL_fx.CallerNum.nunique())\n",
    "1614/2661 #61% of people that reported appearance/QOL issues have had function restored"
   ]
  },
  {
   "cell_type": "code",
   "execution_count": null,
   "metadata": {},
   "outputs": [],
   "source": [
    "#Checking options for mouth condition:\n",
    "\n",
    "Plan_developed.Condition.value_counts()"
   ]
  },
  {
   "cell_type": "code",
   "execution_count": null,
   "metadata": {},
   "outputs": [],
   "source": [
    "#subset those that reported poor mouth condition that had a treatment plan developed: 1741\n",
    "Poor_condition = Plan_developed[Plan_developed['Condition'] == 'Poor']\n",
    "Poor_condition.CallerNum.nunique()"
   ]
  },
  {
   "cell_type": "code",
   "execution_count": null,
   "metadata": {},
   "outputs": [],
   "source": [
    "#Those with a treatment plan developed and reported poor mouth condition that were restored to function: 979\n",
    "\n",
    "Poor_condition_fx = Poor_condition[Poor_condition['Function_Restored'] == 'Yes'] \n",
    "print(Poor_condition_fx.CallerNum.nunique())\n",
    "979/1741 #56% of people that reported poor mouth condition have had function restored"
   ]
  },
  {
   "cell_type": "code",
   "execution_count": null,
   "metadata": {},
   "outputs": [],
   "source": [
    "#subset those that reported fair mouth condition that had a treatment plan developed: 1475\n",
    "Fair_condition = Plan_developed[Plan_developed['Condition'] == 'Fair']\n",
    "Fair_condition.CallerNum.nunique()"
   ]
  },
  {
   "cell_type": "code",
   "execution_count": null,
   "metadata": {},
   "outputs": [],
   "source": [
    "#Those with a treatment plan developed and reported poor mouth condition that were restored to function: 969\n",
    "\n",
    "Fair_condition_fx = Fair_condition[Fair_condition['Function_Restored'] == 'Yes'] \n",
    "print(Fair_condition_fx.CallerNum.nunique())\n",
    "969/1475 #66% of people that reported fair mouth condition have had function restored"
   ]
  },
  {
   "cell_type": "code",
   "execution_count": null,
   "metadata": {},
   "outputs": [],
   "source": [
    "Plan_developed.Last_Dentist_Visit.value_counts()"
   ]
  },
  {
   "cell_type": "code",
   "execution_count": null,
   "metadata": {},
   "outputs": [],
   "source": [
    "#subset those that have not been to the dentist in more than 5 years that had a treatment plan developed: 947\n",
    "five_plus = Plan_developed[Plan_developed['Last_Dentist_Visit'] == 'More than 5 years'] \n",
    "five_plus.CallerNum.nunique()"
   ]
  },
  {
   "cell_type": "code",
   "execution_count": null,
   "metadata": {},
   "outputs": [],
   "source": [
    "#Those with a treatment plan developed that have not been to the dentist in more than 5 years that were restored to function: 516\n",
    "\n",
    "five_plus_fx = five_plus[five_plus['Function_Restored'] == 'Yes'] \n",
    "print(five_plus_fx.CallerNum.nunique())\n",
    "516/947 #54% of people that haven't been to the dentist in 5 years have function restored"
   ]
  },
  {
   "cell_type": "code",
   "execution_count": null,
   "metadata": {},
   "outputs": [],
   "source": [
    "Plan_developed.Decay.value_counts()\n",
    "\n",
    "# 'SMILE ON 60+ Screening - Need for Periodontal Care' : 'Need_For_Care',\n",
    "# 'SMILE ON 60+ Screening - Root Fragments' : 'Root_Fragments', \n",
    "# 'SMILE ON 60+ Screening - Suspicious Soft Tissue Lesions' : 'Lesions',\n",
    "# 'SMILE ON 60+ Screening - Untreated Decay' : 'Decay', "
   ]
  },
  {
   "cell_type": "code",
   "execution_count": null,
   "metadata": {},
   "outputs": [],
   "source": [
    "#subset those that have 'Need for periodontal Care' that had a treatment plan developed: 1471\n",
    "\n",
    "Need_For_Care = Plan_developed[Plan_developed['Need_For_Care'] == 'Yes'] \n",
    "\n",
    "Need_For_Care.CallerNum.nunique()"
   ]
  },
  {
   "cell_type": "code",
   "execution_count": null,
   "metadata": {},
   "outputs": [],
   "source": [
    "#Those with a treatment plan developed that have 'Need for periodontal Care' that were restored to function: 319\n",
    "\n",
    "Need_For_Care_fx = Need_For_Care[Need_For_Care['Function_Restored'] == 'Yes'] \n",
    "print(Need_For_Care_fx.CallerNum.nunique())\n",
    "319/1471 #22% of people that have 'Need for periodontal Care' have function restored"
   ]
  },
  {
   "cell_type": "code",
   "execution_count": null,
   "metadata": {},
   "outputs": [],
   "source": [
    "#subset those that have 'Root Fragments' that had a treatment plan developed: 940\n",
    "\n",
    "Root_Fragments = Plan_developed[Plan_developed['Root_Fragments'] == 'Yes'] \n",
    "\n",
    "Root_Fragments.CallerNum.nunique()"
   ]
  },
  {
   "cell_type": "code",
   "execution_count": null,
   "metadata": {},
   "outputs": [],
   "source": [
    "#Those with a treatment plan developed that have 'Root Fragments' that were restored to function: 147\n",
    "\n",
    "Root_Fragments_fx = Root_Fragments[Root_Fragments['Function_Restored'] == 'Yes'] \n",
    "print(Root_Fragments_fx.CallerNum.nunique())\n",
    "147/940 #16% of people that have 'Root Fragments' have function restored"
   ]
  },
  {
   "cell_type": "code",
   "execution_count": null,
   "metadata": {},
   "outputs": [],
   "source": [
    "#subset those that have 'Suspicious Soft Tissue Lesions' that had a treatment plan developed: 150\n",
    "\n",
    "Lesions = Plan_developed[Plan_developed['Lesions'] == 'Yes'] \n",
    "\n",
    "Lesions.CallerNum.nunique()"
   ]
  },
  {
   "cell_type": "code",
   "execution_count": null,
   "metadata": {},
   "outputs": [],
   "source": [
    "#Those with a treatment plan developed that have 'Suspicious Soft Tissue Lesions' that were restored to function: 33\n",
    "\n",
    "Lesions_fx = Lesions[Lesions['Function_Restored'] == 'Yes'] \n",
    "print(Lesions_fx.CallerNum.nunique())\n",
    "33/150 #22% of people that have 'Suspicious Soft Tissue Lesions' have function restored"
   ]
  },
  {
   "cell_type": "code",
   "execution_count": null,
   "metadata": {},
   "outputs": [],
   "source": [
    "#subset those that have 'Untreated Decay' that had a treatment plan developed: 2298\n",
    "\n",
    "Decay = Plan_developed[Plan_developed['Decay'] == 'Yes'] \n",
    "\n",
    "Decay.CallerNum.nunique()"
   ]
  },
  {
   "cell_type": "code",
   "execution_count": null,
   "metadata": {},
   "outputs": [],
   "source": [
    "#Those with a treatment plan developed that have 'Untreated Decay' that were restored to function: 475\n",
    "\n",
    "Decay_fx = Decay[Decay['Function_Restored'] == 'Yes'] \n",
    "print(Decay_fx.CallerNum.nunique())\n",
    "475/2298 #20% of people that have 'Untreated Decay' have function restored"
   ]
  },
  {
   "cell_type": "code",
   "execution_count": null,
   "metadata": {},
   "outputs": [],
   "source": [
    "Decay_all = clinic_only[clinic_only['Decay'] == 'Yes'] \n",
    "\n",
    "Decay_all.CallerNum.nunique()"
   ]
  },
  {
   "cell_type": "code",
   "execution_count": null,
   "metadata": {},
   "outputs": [],
   "source": [
    "Decay_fx_all = Decay_all[Decay_all['Function_Restored'] == 'Yes'] \n",
    "print(Decay_fx_all.CallerNum.nunique())"
   ]
  },
  {
   "cell_type": "code",
   "execution_count": null,
   "metadata": {},
   "outputs": [],
   "source": [
    "511/2894"
   ]
  },
  {
   "cell_type": "code",
   "execution_count": null,
   "metadata": {},
   "outputs": [],
   "source": [
    "encounters_per_pt = smileon.CallerNum.value_counts()\n",
    "encounters_per_pt"
   ]
  },
  {
   "cell_type": "code",
   "execution_count": null,
   "metadata": {},
   "outputs": [],
   "source": [
    "clinic_encounters_per_pt = clinic_only.CallerNum.value_counts()\n",
    "#clinic_encounters_per_pt.to_csv(r'C:\\Users\\kkosf\\Documents\\nss\\projects\\smile-on-spiderman\\clinic_encounters_per_pt.csv', index=False)\n",
    "clinic_encounters_per_pt"
   ]
  },
  {
   "cell_type": "code",
   "execution_count": null,
   "metadata": {},
   "outputs": [],
   "source": []
  }
 ],
 "metadata": {
  "kernelspec": {
   "display_name": "Python 3",
   "language": "python",
   "name": "python3"
  },
  "language_info": {
   "codemirror_mode": {
    "name": "ipython",
    "version": 3
   },
   "file_extension": ".py",
   "mimetype": "text/x-python",
   "name": "python",
   "nbconvert_exporter": "python",
   "pygments_lexer": "ipython3",
   "version": "3.8.5"
  }
 },
 "nbformat": 4,
 "nbformat_minor": 4
}
